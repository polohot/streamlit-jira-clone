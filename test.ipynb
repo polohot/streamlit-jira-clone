{
 "cells": [
  {
   "cell_type": "code",
   "execution_count": null,
   "metadata": {},
   "outputs": [],
   "source": [
    "from azure.identity import ClientSecretCredential\n",
    "from azure.storage.blob import BlobServiceClient\n",
    "from dotenv import load_dotenv\n",
    "import os"
   ]
  },
  {
   "cell_type": "code",
   "execution_count": null,
   "metadata": {},
   "outputs": [],
   "source": [
    "credentials = ClientSecretCredential(\n",
    "    client_id = os.getenv('AZURE_CLIENT_ID'),\n",
    "    client_secret = os.getenv('AZURE_CLIENT_SECRET'),\n",
    "    tenant_id = os.getenv('AZURE_TENANT_ID')"
   ]
  },
  {
   "cell_type": "code",
   "execution_count": 1,
   "metadata": {},
   "outputs": [],
   "source": [
    "ls = [\n",
    "'itemHistory/20250311-130005/20250311-130005.json',\n",
    "'itemHistory/20250311-130005/20250311-130010.json',\n",
    "'itemHistory/20250311-130005/20250311-140000.json'\n",
    "]"
   ]
  },
  {
   "cell_type": "code",
   "execution_count": 2,
   "metadata": {},
   "outputs": [],
   "source": [
    "ls.sort()"
   ]
  },
  {
   "cell_type": "code",
   "execution_count": 3,
   "metadata": {},
   "outputs": [
    {
     "data": {
      "text/plain": [
       "['itemHistory/20250311-130005/20250311-130005.json',\n",
       " 'itemHistory/20250311-130005/20250311-130010.json',\n",
       " 'itemHistory/20250311-130005/20250311-140000.json']"
      ]
     },
     "execution_count": 3,
     "metadata": {},
     "output_type": "execute_result"
    }
   ],
   "source": [
    "ls"
   ]
  }
 ],
 "metadata": {
  "kernelspec": {
   "display_name": "py312-tmp",
   "language": "python",
   "name": "python3"
  },
  "language_info": {
   "codemirror_mode": {
    "name": "ipython",
    "version": 3
   },
   "file_extension": ".py",
   "mimetype": "text/x-python",
   "name": "python",
   "nbconvert_exporter": "python",
   "pygments_lexer": "ipython3",
   "version": "3.12.9"
  }
 },
 "nbformat": 4,
 "nbformat_minor": 2
}
